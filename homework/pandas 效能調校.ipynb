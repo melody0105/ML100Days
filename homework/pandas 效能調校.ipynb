{
 "cells": [
  {
   "cell_type": "code",
   "execution_count": 1,
   "metadata": {},
   "outputs": [],
   "source": [
    "#在速度較慢的時候，可以先從哪邊開始檢查？\n",
    "可以查詢pandas中是否有⽀援相關演算法，或從資料讀取⽅式下⼿，將要讀取的資料改成pkl檔"
   ]
  },
  {
   "cell_type": "code",
   "execution_count": null,
   "metadata": {},
   "outputs": [],
   "source": [
    "#資料過大時應採取什麼方式讓記憶體占用量下降？\n",
    "整數型態int改成uint減少記憶體正用空間"
   ]
  }
 ],
 "metadata": {
  "kernelspec": {
   "display_name": "Python 3",
   "language": "python",
   "name": "python3"
  },
  "language_info": {
   "codemirror_mode": {
    "name": "ipython",
    "version": 3
   },
   "file_extension": ".py",
   "mimetype": "text/x-python",
   "name": "python",
   "nbconvert_exporter": "python",
   "pygments_lexer": "ipython3",
   "version": "3.8.3"
  }
 },
 "nbformat": 4,
 "nbformat_minor": 4
}
